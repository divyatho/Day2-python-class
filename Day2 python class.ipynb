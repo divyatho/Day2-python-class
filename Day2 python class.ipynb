{
 "cells": [
  {
   "cell_type": "code",
   "execution_count": 1,
   "id": "9e374699",
   "metadata": {},
   "outputs": [],
   "source": [
    "x = 5\n",
    "\n",
    "y = 2"
   ]
  },
  {
   "cell_type": "code",
   "execution_count": 2,
   "id": "c1a89658",
   "metadata": {},
   "outputs": [
    {
     "name": "stdout",
     "output_type": "stream",
     "text": [
      "7\n"
     ]
    }
   ],
   "source": [
    "z = x+y\n",
    "print(z)"
   ]
  },
  {
   "cell_type": "code",
   "execution_count": 8,
   "id": "5974105e",
   "metadata": {},
   "outputs": [
    {
     "ename": "SyntaxError",
     "evalue": "invalid syntax (1738743256.py, line 1)",
     "output_type": "error",
     "traceback": [
      "\u001b[0;36m  File \u001b[0;32m\"/var/folders/f7/4pmzqvxs0h9dc9vcdjmydg8h0000gn/T/ipykernel_17517/1738743256.py\"\u001b[0;36m, line \u001b[0;32m1\u001b[0m\n\u001b[0;31m    first name = 'Divya' #no spaces between variable name\u001b[0m\n\u001b[0m          ^\u001b[0m\n\u001b[0;31mSyntaxError\u001b[0m\u001b[0;31m:\u001b[0m invalid syntax\n"
     ]
    }
   ],
   "source": [
    "first name = 'Divya' #no spaces between variable name\n",
    "print(firstname)"
   ]
  },
  {
   "cell_type": "code",
   "execution_count": 7,
   "id": "1a765bcf",
   "metadata": {},
   "outputs": [
    {
     "ename": "SyntaxError",
     "evalue": "invalid syntax (2859929212.py, line 1)",
     "output_type": "error",
     "traceback": [
      "\u001b[0;36m  File \u001b[0;32m\"/var/folders/f7/4pmzqvxs0h9dc9vcdjmydg8h0000gn/T/ipykernel_17517/2859929212.py\"\u001b[0;36m, line \u001b[0;32m1\u001b[0m\n\u001b[0;31m    1name = 'divya'  #\u001b[0m\n\u001b[0m     ^\u001b[0m\n\u001b[0;31mSyntaxError\u001b[0m\u001b[0;31m:\u001b[0m invalid syntax\n"
     ]
    }
   ],
   "source": [
    "1name = 'divya'  #variable should not start with number\n",
    "print(name1)"
   ]
  },
  {
   "cell_type": "code",
   "execution_count": 5,
   "id": "359239db",
   "metadata": {},
   "outputs": [
    {
     "name": "stdout",
     "output_type": "stream",
     "text": [
      "divya\n"
     ]
    }
   ],
   "source": [
    "first_name = 'divya'\n",
    "print(first_name)"
   ]
  },
  {
   "cell_type": "code",
   "execution_count": 6,
   "id": "2a5677e5",
   "metadata": {},
   "outputs": [
    {
     "ename": "SyntaxError",
     "evalue": "invalid syntax (697958983.py, line 1)",
     "output_type": "error",
     "traceback": [
      "\u001b[0;36m  File \u001b[0;32m\"/var/folders/f7/4pmzqvxs0h9dc9vcdjmydg8h0000gn/T/ipykernel_17517/697958983.py\"\u001b[0;36m, line \u001b[0;32m1\u001b[0m\n\u001b[0;31m    name@ ='divya'\u001b[0m\n\u001b[0m          ^\u001b[0m\n\u001b[0;31mSyntaxError\u001b[0m\u001b[0;31m:\u001b[0m invalid syntax\n"
     ]
    }
   ],
   "source": [
    "name@ ='divya'    #a variable should not contain any special characters\n",
    "print(name@)"
   ]
  },
  {
   "cell_type": "code",
   "execution_count": 9,
   "id": "98ac3267",
   "metadata": {},
   "outputs": [
    {
     "name": "stdout",
     "output_type": "stream",
     "text": [
      "divya\n"
     ]
    }
   ],
   "source": [
    "name = \"divya\" #double quote\n",
    "print(name)"
   ]
  },
  {
   "cell_type": "code",
   "execution_count": 10,
   "id": "5fab4ab1",
   "metadata": {},
   "outputs": [
    {
     "name": "stdout",
     "output_type": "stream",
     "text": [
      "Divya Sree\n"
     ]
    }
   ],
   "source": [
    "fullname = 'divya sree'    #to get in the right format\n",
    "print(fullname.title())"
   ]
  },
  {
   "cell_type": "code",
   "execution_count": 11,
   "id": "9949ca9c",
   "metadata": {},
   "outputs": [
    {
     "name": "stdout",
     "output_type": "stream",
     "text": [
      "DIVYA SREE\n"
     ]
    }
   ],
   "source": [
    "print(fullname.upper()) #to get the name in capital letters"
   ]
  },
  {
   "cell_type": "code",
   "execution_count": 12,
   "id": "d5a8e2a1",
   "metadata": {},
   "outputs": [
    {
     "name": "stdout",
     "output_type": "stream",
     "text": [
      "divya sree\n"
     ]
    }
   ],
   "source": [
    "print(fullname.lower()) "
   ]
  },
  {
   "cell_type": "code",
   "execution_count": null,
   "id": "6f748c5b",
   "metadata": {},
   "outputs": [],
   "source": []
  }
 ],
 "metadata": {
  "kernelspec": {
   "display_name": "Python 3 (ipykernel)",
   "language": "python",
   "name": "python3"
  },
  "language_info": {
   "codemirror_mode": {
    "name": "ipython",
    "version": 3
   },
   "file_extension": ".py",
   "mimetype": "text/x-python",
   "name": "python",
   "nbconvert_exporter": "python",
   "pygments_lexer": "ipython3",
   "version": "3.9.13"
  }
 },
 "nbformat": 4,
 "nbformat_minor": 5
}
